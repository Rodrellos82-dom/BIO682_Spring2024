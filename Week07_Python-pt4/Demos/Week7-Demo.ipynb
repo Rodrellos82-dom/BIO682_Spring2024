{
 "cells": [
  {
   "cell_type": "markdown",
   "metadata": {},
   "source": [
    "# Sets"
   ]
  },
  {
   "cell_type": "code",
   "execution_count": 10,
   "metadata": {},
   "outputs": [
    {
     "name": "stdout",
     "output_type": "stream",
     "text": [
      "set1 is a subset of set2!\n"
     ]
    }
   ],
   "source": [
    "list1 = [\"red\", \"blue\", \"purple\", \"black\", \"red\", \"blue\", \"red\", \"blue\", \"white\", \"green\", \"yellow\", \"pink\", \"white\", \"purple\", \"black\", \"white\", \"white\", \"black\", \"green\", \"blue\", \"purple\", \"black\", \"blue\", \"purple\", \"black\", \"blue\", \"purple\", \"black\", \"blue\", \"purple\", \"black\", \"blue\", \"purple\", \"black\", \"green\", \"yellow\", \"green\", \"yellow\", \"green\", \"yellow\"]\n",
    "list2 = [\"red\", \"blue\", \"purple\", \"black\", \"red\", \"blue\", \"red\", \"blue\", \"white\", \"green\", \"yellow\", \"pink\", \"white\", \"purple\", \"black\", \"white\", \"white\", \"black\", \"green\", \"blue\", \"purple\", \"black\", \"blue\", \"purple\", \"black\", \"blue\", \"purple\", \"black\", \"blue\", \"purple\", \"black\", \"blue\", \"purple\", \"black\", \"green\", \"yellow\", \"green\", \"yellow\", \"green\", \"yellow\"]\n",
    "\n",
    "#list2 = [\"orange\", \"orange\", \"orange\", \"orange\", \"orange\", \"orange\", \"orange\", \"orange\", \"grey\", \"orange\", \"orange\", \"grey\", \"yellow\", \"orange\", \"grey\", \"yellow\", \"orange\", \"grey\", \"yellow\", \"orange\", \"grey\", \"yellow\", \"orange\", \"grey\", \"yellow\", \"orange\", \"grey\", \"yellow\", \"red\", \"indigo\", \"orange\", \"grey\", \"yellow\", \"red\", \"indigo\", \"orange\", \"grey\", \"yellow\", \"red\", \"indigo\", \"orange\", \"grey\", \"yellow\", \"red\", \"indigo\", \"orange\", \"orange\", \"grey\", \"yellow\", \"red\", \"indigo\", \"orange\", \"grey\", \"yellow\", \"red\", \"indigo\", \"orange\", \"grey\", \"yellow\", \"red\", \"indigo\", \"orange\", \"grey\", \"yellow\", \"red\", \"indigo\", \"grey\", \"yellow\", \"red\", \"indigo\"]\n",
    "\n",
    "set1 = set(list1)\n",
    "set2 = set(list2)\n",
    "\n",
    "if set1.issuperset(set2):\n",
    "    print(\"set1 is a subset of set2!\")\n",
    "else:\n",
    "    print(\"set1 is NOT a subset of set2!\")\n",
    "    print(set1.difference(set2))\n",
    "    "
   ]
  },
  {
   "cell_type": "markdown",
   "metadata": {},
   "source": [
    "# Functions "
   ]
  },
  {
   "cell_type": "code",
   "execution_count": 20,
   "metadata": {},
   "outputs": [],
   "source": [
    "seqL = [\"ACTAGATACGAT\", \"YATAGSTFARAGSTY\", \"AAAAATTTTTT\", \"agatacatagatac\"]\n",
    "\n",
    "def cg(seq):\n",
    "    seq = seq.upper()\n",
    "    c = seq.count(\"C\")\n",
    "    g = seq.count(\"G\")\n",
    "    \n",
    "    cgCount = c+g\n",
    "    cgProp = cgCount/len(seq)\n",
    "    \n",
    "    uniqBases = set(seq)\n",
    "    exp = set([\"A\", \"C\", \"T\", \"G\"])\n",
    "    \n",
    "    unexp = uniqBases.difference(exp)\n",
    "    if len(unexp) > 0:\n",
    "        print(f\"Unexpected characters in provided sequence: {unexp}\")\n",
    "    \n",
    "    return cgProp"
   ]
  },
  {
   "cell_type": "code",
   "execution_count": 24,
   "metadata": {},
   "outputs": [
    {
     "name": "stdout",
     "output_type": "stream",
     "text": [
      "Unexpected characters in provided sequence: {'Y', 'F', 'R', 'S'}\n",
      "[0.3333333333333333, 0.13333333333333333, 0.0, 0.2857142857142857]\n"
     ]
    }
   ],
   "source": [
    "gcL = [cg(x) for x in seqL]\n",
    "print(gcL)"
   ]
  },
  {
   "cell_type": "code",
   "execution_count": null,
   "metadata": {},
   "outputs": [],
   "source": []
  },
  {
   "cell_type": "code",
   "execution_count": null,
   "metadata": {},
   "outputs": [],
   "source": []
  },
  {
   "cell_type": "code",
   "execution_count": null,
   "metadata": {},
   "outputs": [],
   "source": []
  },
  {
   "cell_type": "code",
   "execution_count": null,
   "metadata": {},
   "outputs": [],
   "source": []
  },
  {
   "cell_type": "code",
   "execution_count": null,
   "metadata": {},
   "outputs": [],
   "source": []
  }
 ],
 "metadata": {
  "kernelspec": {
   "display_name": "Python 3",
   "language": "python",
   "name": "python3"
  },
  "language_info": {
   "codemirror_mode": {
    "name": "ipython",
    "version": 3
   },
   "file_extension": ".py",
   "mimetype": "text/x-python",
   "name": "python",
   "nbconvert_exporter": "python",
   "pygments_lexer": "ipython3",
   "version": "3.8.5"
  }
 },
 "nbformat": 4,
 "nbformat_minor": 4
}
