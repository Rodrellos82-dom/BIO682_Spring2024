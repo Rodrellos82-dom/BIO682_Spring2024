{
 "cells": [
  {
   "cell_type": "markdown",
   "metadata": {},
   "source": [
    "# Sets"
   ]
  },
  {
   "cell_type": "code",
   "execution_count": 1,
   "metadata": {},
   "outputs": [],
   "source": [
    "list1 = [\"red\", \"blue\", \"purple\", \"black\", \"red\", \"blue\", \"red\", \"blue\", \"white\", \"green\", \"yellow\", \"pink\", \"white\", \"purple\", \"black\", \"white\", \"white\", \"black\", \"green\", \"blue\", \"purple\", \"black\", \"blue\", \"purple\", \"black\", \"blue\", \"purple\", \"black\", \"blue\", \"purple\", \"black\", \"blue\", \"purple\", \"black\", \"green\", \"yellow\", \"green\", \"yellow\", \"green\", \"yellow\"]\n",
    "list2 = [\"orange\", \"orange\", \"orange\", \"orange\", \"orange\", \"orange\", \"orange\", \"orange\", \"grey\", \"orange\", \"orange\", \"grey\", \"yellow\", \"orange\", \"grey\", \"yellow\", \"orange\", \"grey\", \"yellow\", \"orange\", \"grey\", \"yellow\", \"orange\", \"grey\", \"yellow\", \"orange\", \"grey\", \"yellow\", \"red\", \"indigo\", \"orange\", \"grey\", \"yellow\", \"red\", \"indigo\", \"orange\", \"grey\", \"yellow\", \"red\", \"indigo\", \"orange\", \"grey\", \"yellow\", \"red\", \"indigo\", \"orange\", \"orange\", \"grey\", \"yellow\", \"red\", \"indigo\", \"orange\", \"grey\", \"yellow\", \"red\", \"indigo\", \"orange\", \"grey\", \"yellow\", \"red\", \"indigo\", \"orange\", \"grey\", \"yellow\", \"red\", \"indigo\", \"grey\", \"yellow\", \"red\", \"indigo\"]\n",
    "\n"
   ]
  },
  {
   "cell_type": "markdown",
   "metadata": {},
   "source": [
    "# Functions "
   ]
  },
  {
   "cell_type": "code",
   "execution_count": 2,
   "metadata": {},
   "outputs": [],
   "source": [
    "seqL = [\"ACTAGATACGAT\", \"YATAGSTFARAGSTY\", \"AAAAATTTTTT\"]\n",
    "\n"
   ]
  }
 ],
 "metadata": {
  "kernelspec": {
   "display_name": "Python 3",
   "language": "python",
   "name": "python3"
  },
  "language_info": {
   "codemirror_mode": {
    "name": "ipython",
    "version": 3
   },
   "file_extension": ".py",
   "mimetype": "text/x-python",
   "name": "python",
   "nbconvert_exporter": "python",
   "pygments_lexer": "ipython3",
   "version": "3.8.5"
  }
 },
 "nbformat": 4,
 "nbformat_minor": 4
}
