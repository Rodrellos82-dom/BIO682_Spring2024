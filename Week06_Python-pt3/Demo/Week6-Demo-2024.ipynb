{
 "cells": [
  {
   "cell_type": "markdown",
   "metadata": {},
   "source": [
    "# Import modules"
   ]
  },
  {
   "cell_type": "code",
   "execution_count": 8,
   "metadata": {},
   "outputs": [],
   "source": [
    "import random,itertools,os\n",
    "import numpy as np\n",
    "import fastatools as ft\n",
    "\n",
    "from collections import defaultdict"
   ]
  },
  {
   "cell_type": "markdown",
   "metadata": {},
   "source": [
    "# List comprehension"
   ]
  },
  {
   "cell_type": "code",
   "execution_count": 11,
   "metadata": {},
   "outputs": [
    {
     "name": "stdout",
     "output_type": "stream",
     "text": [
      "['APIS', 'AEDES', 'OMUS', 'CANIS']\n"
     ]
    }
   ],
   "source": [
    "gens = [\"Apis\", \"Aedes\", \"Omus\", \"Canis\"]\n",
    "\n",
    "genUpper = [s.upper() for s in gens]\n",
    "print(genUpper)"
   ]
  },
  {
   "cell_type": "code",
   "execution_count": 17,
   "metadata": {},
   "outputs": [
    {
     "name": "stdout",
     "output_type": "stream",
     "text": [
      "22\n",
      "14\n"
     ]
    }
   ],
   "source": [
    "counts = [16, 725, 12, -6737, 83, 432, 190, -123, 29, 921, 1045, 3, 40, -4, 721, 128, 397, 455, 32, 701, 1034, -341]\n",
    "print(len(counts))\n",
    "num = len([z for z in counts if abs(z)>=100])\n",
    "print(num)"
   ]
  },
  {
   "cell_type": "markdown",
   "metadata": {},
   "source": [
    "# Dictionary comprehension"
   ]
  },
  {
   "cell_type": "code",
   "execution_count": 36,
   "metadata": {},
   "outputs": [
    {
     "name": "stdout",
     "output_type": "stream",
     "text": [
      "{'Canis': 12, 'Omus': 11, 'Aedes': 8, 'Apis': 31}\n"
     ]
    }
   ],
   "source": [
    "generaObserved = [\"Apis\", \"Canis\", \"Omus\", \"Canis\", \"Omus\", \"Canis\", \"Canis\", \"Apis\", \"Omus\", \"Aedes\", \"Omus\", \"Apis\", \"Canis\", \"Apis\", \"Apis\", \"Omus\", \"Aedes\", \"Omus\", \"Apis\", \"Aedes\", \"Apis\", \"Aedes\", \"Aedes\", \"Omus\", \"Omus\", \"Omus\", \"Apis\", \"Apis\", \"Apis\", \"Aedes\", \"Aedes\", \"Aedes\", \"Apis\", \"Apis\", \"Apis\", \"Apis\", \"Omus\", \"Apis\", \"Apis\", \"Apis\", \"Apis\", \"Apis\", \"Apis\", \"Apis\", \"Canis\", \"Apis\", \"Apis\", \"Apis\", \"Apis\", \"Canis\", \"Apis\", \"Apis\", \"Apis\", \"Canis\", \"Apis\", \"Canis\", \"Apis\", \"Apis\", \"Canis\", \"Omus\", \"Canis\", \"Canis\", ]\n",
    "countD = {k:generaObserved.count(k) for k in set(generaObserved)}\n",
    "print(countD)"
   ]
  },
  {
   "cell_type": "code",
   "execution_count": 37,
   "metadata": {},
   "outputs": [
    {
     "data": {
      "text/plain": [
       "{'Aedes', 'Apis', 'Canis', 'Omus'}"
      ]
     },
     "execution_count": 37,
     "metadata": {},
     "output_type": "execute_result"
    }
   ],
   "source": [
    "set(generaObserved)"
   ]
  },
  {
   "cell_type": "code",
   "execution_count": 31,
   "metadata": {},
   "outputs": [
    {
     "data": {
      "text/plain": [
       "0"
      ]
     },
     "execution_count": 31,
     "metadata": {},
     "output_type": "execute_result"
    }
   ],
   "source": [
    "countD[\"test\"]"
   ]
  },
  {
   "cell_type": "code",
   "execution_count": 32,
   "metadata": {},
   "outputs": [
    {
     "data": {
      "text/plain": [
       "defaultdict(int, {'test': 0})"
      ]
     },
     "execution_count": 32,
     "metadata": {},
     "output_type": "execute_result"
    }
   ],
   "source": [
    "countD"
   ]
  },
  {
   "cell_type": "markdown",
   "metadata": {},
   "source": [
    "# String formatting"
   ]
  },
  {
   "cell_type": "code",
   "execution_count": 44,
   "metadata": {},
   "outputs": [
    {
     "name": "stdout",
     "output_type": "stream",
     "text": [
      "Canis,00012\n",
      "Omus,00011\n",
      "Aedes,00008\n",
      "Apis,00031\n"
     ]
    }
   ],
   "source": [
    "for k,v in countD.items():\n",
    "    print(\"%s,%05d\" % (k,v))"
   ]
  },
  {
   "cell_type": "markdown",
   "metadata": {},
   "source": [
    "# f-strings"
   ]
  },
  {
   "cell_type": "code",
   "execution_count": 52,
   "metadata": {},
   "outputs": [
    {
     "name": "stdout",
     "output_type": "stream",
     "text": [
      "Canis\t0000000012\n",
      "Omus\t0000000011\n",
      "Aedes\t0000000008\n",
      "Apis\t0000000031\n"
     ]
    }
   ],
   "source": [
    "for k,v in countD.items():\n",
    "    print(f\"{k}\\t{v:010d}\")"
   ]
  },
  {
   "cell_type": "markdown",
   "metadata": {},
   "source": [
    "# Read from file, Writing to files"
   ]
  },
  {
   "cell_type": "code",
   "execution_count": 62,
   "metadata": {},
   "outputs": [],
   "source": [
    "c=0\n",
    "\n",
    "with open(\"FAV_meta.tsv\", \"r\") as fin:\n",
    "    with open(\"FAV_meta_CHIKV.csv\", \"w\") as fout:\n",
    "        for line in fin:\n",
    "            c+=1\n",
    "            cols = line.rstrip(\"\\n\").split(\"\\t\")\n",
    "            if c==1:\n",
    "                fout.write(f\"{cols[0]},{cols[4]},{cols[7]}\\n\")\n",
    "            else:\n",
    "                if cols[4]==\"CHIKV\":\n",
    "                    fout.write(f\"{cols[0]},{cols[4]},{cols[7]}\\n\")\n"
   ]
  },
  {
   "cell_type": "code",
   "execution_count": null,
   "metadata": {},
   "outputs": [],
   "source": []
  }
 ],
 "metadata": {
  "kernelspec": {
   "display_name": "Python 3 (ipykernel)",
   "language": "python",
   "name": "python3"
  },
  "language_info": {
   "codemirror_mode": {
    "name": "ipython",
    "version": 3
   },
   "file_extension": ".py",
   "mimetype": "text/x-python",
   "name": "python",
   "nbconvert_exporter": "python",
   "pygments_lexer": "ipython3",
   "version": "3.8.16"
  }
 },
 "nbformat": 4,
 "nbformat_minor": 4
}
